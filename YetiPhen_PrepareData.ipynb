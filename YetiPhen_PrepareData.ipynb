{
 "cells": [
  {
   "cell_type": "code",
   "execution_count": 1,
   "metadata": {},
   "outputs": [
    {
     "name": "stderr",
     "output_type": "stream",
     "text": [
      "/Users/olivier/anaconda3/lib/python3.6/site-packages/h5py/__init__.py:36: FutureWarning: Conversion of the second argument of issubdtype from `float` to `np.floating` is deprecated. In future, it will be treated as `np.float64 == np.dtype(float).type`.\n",
      "  from ._conv import register_converters as _register_converters\n",
      "Using TensorFlow backend.\n"
     ]
    }
   ],
   "source": [
    "from sys import platform\n",
    "import sys, os\n",
    "# identification de la base de prix utilisée : directory principal\n",
    "# sur ubuntu\n",
    "\n",
    "path=''\n",
    "if platform == 'linux' :\n",
    "    Initialpath ='/workspace/NeuralPricing/A_GeneralizedSABR'\n",
    "# sur. mac osx\n",
    "if platform == 'darwin' :\n",
    "    Initialpath ='/Users/olivier/keras/NeuralPricing/A_GeneralizedSABR'\n",
    "import keras,tensorflow,pkg_resources\n",
    "dataDirectory='Generate_SABR-C#/Data'\n",
    "#datafile='Data/Baby_Learningbase1.CSV'\n",
    "os.chdir(Initialpath)\n",
    "# le package identifie la methode de calibration : sous-directory\n",
    "ResultDirectory='Data'\n",
    "#datafile='Data/Baby_Learningbase1.CSV'"
   ]
  },
  {
   "cell_type": "code",
   "execution_count": 2,
   "metadata": {},
   "outputs": [],
   "source": [
    "from __future__ import print_function\n",
    "import tensorflow as tf\n",
    "from math import sqrt, exp, log, erf,floor\n",
    "import numpy \n",
    "import pandas\n",
    "from decimal import *\n",
    "import keras\n",
    "from keras.layers import Dense\n",
    "from keras.layers import Dropout\n",
    "from keras import regularizers\n",
    "from keras import callbacks\n",
    "from keras.layers import Activation\n",
    "from keras.layers import Lambda\n",
    "from keras.models import Sequential\n",
    "from keras.models import model_from_json\n",
    "import matplotlib\n",
    "import matplotlib.pyplot as pyplot\n",
    "from matplotlib import cm\n",
    "from matplotlib.ticker import LinearLocator, FormatStrFormatter\n",
    "import mpl_toolkits\n",
    "from mpl_toolkits.mplot3d import axes3d\n",
    "from mpl_toolkits.mplot3d.axes3d import Axes3D\n",
    "from sklearn import preprocessing\n",
    "from sklearn import model_selection\n",
    "import joblib\n",
    "import seaborn as sns\n",
    "import scipy\n",
    "from IPython.display import display\n",
    "import time\n",
    "%matplotlib inline\n",
    "from IPython.display import display\n",
    "from ipywidgets import interact, interactive, fixed, interact_manual,FloatProgress\n",
    "import ipywidgets as widgets\n"
   ]
  },
  {
   "cell_type": "code",
   "execution_count": 3,
   "metadata": {},
   "outputs": [],
   "source": [
    "getcontext().prec = 8\n",
    "\n",
    "from util_functions_ExtendedSABR import *"
   ]
  },
  {
   "cell_type": "code",
   "execution_count": 4,
   "metadata": {},
   "outputs": [],
   "source": [
    "params=metaparameters()\n",
    "\n",
    "params.INPUT_DIM  = 12\n",
    "params.INPUT_OPTION = 12\n",
    "params.INPUT_VOL =13\n",
    "params.NB_NEURON_PRINCIPAL =8\n",
    "params.ACTIVATION_PRINCIPALE = 'tanh'\n",
    "params.ACTIVATION_PRINCIPALE_FINALE = 'linear'\n",
    "params.INITIAL_LEARNING_NB_EPOCH=5\n",
    "params.LEARNINGBASE_ORIGIN=\"Learningbase1_4XNeuron_15000-11Layers\"\n",
    "params.LEARNINGBASE_BUT=\"Learningbase1_4XNeuron_15000-11Layers-Next\"\n",
    "params.ADDITIONAL_LEARNING_NB_EPOCH = 5\n",
    "params.BATCH_SIZE_PRINCIPAL = 32768\n",
    "params.OPTIMIZER='adamax'\n",
    "params.NBLAYERS = 11\n",
    "params.PATH = Initialpath\n",
    "params.VERBOSE_FLAG=2"
   ]
  },
  {
   "cell_type": "code",
   "execution_count": 5,
   "metadata": {},
   "outputs": [],
   "source": [
    "def convertVector(y):\n",
    "    return np.array([pandas.to_numeric(x.replace(\",\",\".\")) for x in y])\n",
    "\n",
    "def convertTensor(Z):\n",
    "    return np.array([convertVector(z) for z in Z])"
   ]
  },
  {
   "cell_type": "code",
   "execution_count": 6,
   "metadata": {},
   "outputs": [],
   "source": [
    "def Xa(i):\n",
    "    return np.asarray(list(filter(lambda x:(x[12]>0 and x[11]>0),\\\n",
    "        convertTensor((pandas.read_csv(dataDirectory+\\\n",
    "            \"/ResultatGeneratedprices-extendedSABR-100-0,05-10-0-0-100000-\"+\\\n",
    "                                str(i)+\".CSV\", sep=\";\",decimal=\",\",header=None).values)[1:,1:]))))\n"
   ]
  },
  {
   "cell_type": "code",
   "execution_count": 7,
   "metadata": {},
   "outputs": [],
   "source": [
    "def Xb(i):\n",
    "    ax=pandas.read_csv(dataDirectory+\\\n",
    "            \"/task\"+str(i)+\".csv\", sep=\";\",decimal=\",\")\n",
    "    ax['beta2']=0\n",
    "    ax['d']=0\n",
    "    ax['gamma']=1\n",
    "    ax['omega']=0\n",
    "    ax['lambda']=0\n",
    "    ax['F0']=ax['forward']\n",
    "    ax['option']=ax['prix']\n",
    "    ax['alpha0']=ax['alpha']\n",
    "    az=  ax[['alpha0','beta','beta2','d','gamma','nu','omega','lambda','rho',\\\n",
    "                'maturity','strike','option','vol']].values\n",
    "    return np.asarray([pandas.to_numeric(az[j]) for j in range(0,az.shape[0])])"
   ]
  },
  {
   "cell_type": "code",
   "execution_count": 8,
   "metadata": {},
   "outputs": [
    {
     "name": "stdout",
     "output_type": "stream",
     "text": [
      "temps de fabrication du ficher 299.4744770526886\n"
     ]
    }
   ],
   "source": [
    "startTime = time.time()\n",
    "Xtotala =np.concatenate([Xa(j) for j in range(0,98)])\n",
    "Xtotalb =np.concatenate([Xb(j) for j in range(0,21)])\n",
    "Xtotal = np.concatenate([Xtotala,Xtotalb])\n",
    "endTime = time.time()\n",
    "print('temps de fabrication du ficher',endTime - startTime)"
   ]
  },
  {
   "cell_type": "code",
   "execution_count": 9,
   "metadata": {},
   "outputs": [
    {
     "data": {
      "text/plain": [
       "(1984919, 13)"
      ]
     },
     "execution_count": 9,
     "metadata": {},
     "output_type": "execute_result"
    }
   ],
   "source": [
    "Xtotal.shape"
   ]
  },
  {
   "cell_type": "code",
   "execution_count": 10,
   "metadata": {},
   "outputs": [],
   "source": [
    "from sklearn import model_selection\n",
    "XTraining,XValidation = model_selection.train_test_split( Xtotal,  test_size=0.10, random_state=3)"
   ]
  },
  {
   "cell_type": "code",
   "execution_count": 11,
   "metadata": {},
   "outputs": [
    {
     "data": {
      "text/plain": [
       "(1786427, 13)"
      ]
     },
     "execution_count": 11,
     "metadata": {},
     "output_type": "execute_result"
    }
   ],
   "source": [
    "XTraining.shape"
   ]
  },
  {
   "cell_type": "code",
   "execution_count": 12,
   "metadata": {},
   "outputs": [
    {
     "data": {
      "text/plain": [
       "(198492, 13)"
      ]
     },
     "execution_count": 12,
     "metadata": {},
     "output_type": "execute_result"
    }
   ],
   "source": [
    "XValidation.shape"
   ]
  },
  {
   "cell_type": "code",
   "execution_count": 13,
   "metadata": {},
   "outputs": [],
   "source": [
    "ResultPath = Initialpath + '/' + ResultDirectory\n",
    "os.chdir(ResultPath)\n",
    "# on sauve le resultat \n",
    "np.savetxt(\"LearningBaseFileB.CSV\",XTraining,delimiter=\",\")\n",
    "np.savetxt(\"Notation.CSV\",XValidation,delimiter=\",\")"
   ]
  },
  {
   "cell_type": "code",
   "execution_count": null,
   "metadata": {},
   "outputs": [],
   "source": []
  }
 ],
 "metadata": {
  "kernelspec": {
   "display_name": "Python 3",
   "language": "python",
   "name": "python3"
  },
  "language_info": {
   "codemirror_mode": {
    "name": "ipython",
    "version": 3
   },
   "file_extension": ".py",
   "mimetype": "text/x-python",
   "name": "python",
   "nbconvert_exporter": "python",
   "pygments_lexer": "ipython3",
   "version": "3.6.5"
  }
 },
 "nbformat": 4,
 "nbformat_minor": 2
}
