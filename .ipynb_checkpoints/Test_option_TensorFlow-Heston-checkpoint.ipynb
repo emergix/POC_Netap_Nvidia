{
 "cells": [
  {
   "cell_type": "code",
   "execution_count": 1,
   "metadata": {},
   "outputs": [
    {
     "name": "stderr",
     "output_type": "stream",
     "text": [
      "/Users/olivier/anaconda3/lib/python3.6/site-packages/h5py/__init__.py:36: FutureWarning: Conversion of the second argument of issubdtype from `float` to `np.floating` is deprecated. In future, it will be treated as `np.float64 == np.dtype(float).type`.\n",
      "  from ._conv import register_converters as _register_converters\n"
     ]
    }
   ],
   "source": [
    "import tensorflow as tf\n",
    "import math\n",
    "import numpy as np\n",
    "import sys\n",
    "from datetime import datetime\n",
    "\n",
    "import os\n",
    "os.environ['TF_CPP_MIN_LOG_LEVEL'] = '3' \n",
    "\n",
    "\n",
    "\n",
    "class HestonNp:\n",
    "    def price(self, n):\n",
    "        W1 = np.random.randn(nT, n).astype(np.float32)\n",
    "        W2 = rhobar*np.random.randn(nT, n).astype(np.float32) + rho*W1\n",
    "\n",
    "        V = np.full((nT, n), V0)\n",
    "        for i in range(1, nT):\n",
    "            V[i,:] = np.fabs(V[i-1,:] + kappa * (theta - V[i-1,:])*dt + alpha * np.sqrt(V[i-1,:]) * sqrtDt * W2[i-1,:])\n",
    "     \n",
    "        R = np.sqrt(V)*sqrtDt*W1 - 0.5*V*dt\n",
    "        C = np.cumsum(R, axis=0)\n",
    "        S = np.exp(C)\n",
    "        A = np.mean(S, axis=0)\n",
    "        P = np.mean(np.maximum(A - K, 0))\n",
    "        return P"
   ]
  },
  {
   "cell_type": "code",
   "execution_count": 2,
   "metadata": {},
   "outputs": [],
   "source": [
    "nT=365\n",
    "T=1.0\n",
    "dt=T/nT\n",
    "sqrtDt=math.sqrt(dt)\n",
    "K=1\n",
    "sigma=0.2\n",
    "rho=-0.5\n",
    "rhobar=math.sqrt(1-rho*rho)\n",
    "V0=0.04\n",
    "theta=0.04\n",
    "kappa=1\n",
    "alpha=0.5\n",
    "\n",
    "class HestonTf:\n",
    "\n",
    "    \n",
    "    def __init__(self, tf_device_name,param):\n",
    "        with tf.device(tf_device_name):\n",
    "            self.param =tf.placeholder(tf.int32)\n",
    "            self.n = tf.placeholder(tf.int32)\n",
    "            W1t = tf.random_normal((nT, self.n), dtype=tf.float32)\n",
    "            W2t = rhobar*tf.random_normal((nT, self.n), dtype=tf.float32) + rho*W1t\n",
    "\n",
    "            V0t = tf.fill([1, self.n], V0)\n",
    "            \n",
    "            def updateV(prevV, currW):\n",
    "                return tf.abs(prevV + kappa * (theta - prevV) * dt + alpha * tf.sqrt(prevV) * sqrtDt * currW +param)\n",
    "\n",
    "            Vt = tf.scan(updateV, tf.concat([V0t, W2t[:-1,:]], 0))\n",
    "\n",
    "            Rt = tf.multiply(tf.sqrt(Vt), sqrtDt*W1t) - 0.5*Vt*dt\n",
    "            Ct = tf.cumsum(Rt, axis=0)\n",
    "            St = tf.exp(Ct)\n",
    "            At = tf.reduce_mean(St, axis=0)\n",
    "            self.Pt = tf.reduce_mean(tf.maximum(At - K, 0))\n",
    "\n",
    "    def price(self, n):\n",
    "        p = sess.run(self.Pt, feed_dict={self.n: n, self.param: 1})\n",
    "        return p"
   ]
  },
  {
   "cell_type": "code",
   "execution_count": 3,
   "metadata": {
    "scrolled": true
   },
   "outputs": [
    {
     "name": "stdout",
     "output_type": "stream",
     "text": [
      "num sims: 10000, price: 2.043658494949341, time: 0:00:00.186990\n",
      "num sims: 25000, price: 0.12820464372634888, time: 0:00:00.317658\n",
      "num sims: 50000, price: 0.1898629367351532, time: 0:00:00.540322\n",
      "num sims: 100000, price: 0.2887801229953766, time: 0:00:01.170239\n",
      "num sims: 250000, price: 0.17950652539730072, time: 0:00:02.636271\n"
     ]
    }
   ],
   "source": [
    "engine = HestonTf(\"/cpu:0\",1)\n",
    "with tf.Session() as sess:\n",
    "        for n in [10000, 25000, 50000, 100000, 250000]:\n",
    "            t0 = datetime.now()\n",
    "            p = engine.price(n)\n",
    "            t1 = datetime.now()\n",
    "            print(\"num sims: {}, price: {}, time: {}\".format(n, p, t1-t0))"
   ]
  },
  {
   "cell_type": "code",
   "execution_count": 4,
   "metadata": {},
   "outputs": [
    {
     "name": "stdout",
     "output_type": "stream",
     "text": [
      "num sims: 10000, price: 0.04319150919000719, time: 0:00:00.474811\n",
      "num sims: 25000, price: 0.043009429153443586, time: 0:00:00.716713\n",
      "num sims: 50000, price: 0.04244937128869733, time: 0:00:01.466577\n",
      "num sims: 100000, price: 0.043128907443780305, time: 0:00:02.783114\n",
      "num sims: 250000, price: 0.042698425223931795, time: 0:00:06.615073\n"
     ]
    }
   ],
   "source": [
    "engine = HestonNp()\n",
    "with tf.Session() as sess:\n",
    "        for n in [10000, 25000, 50000, 100000, 250000]:\n",
    "            t0 = datetime.now()\n",
    "            p = engine.price(n)\n",
    "            t1 = datetime.now()\n",
    "            print(\"num sims: {}, price: {}, time: {}\".format(n, p, t1-t0))"
   ]
  },
  {
   "cell_type": "code",
   "execution_count": null,
   "metadata": {},
   "outputs": [],
   "source": []
  }
 ],
 "metadata": {
  "kernelspec": {
   "display_name": "Python 3",
   "language": "python",
   "name": "python3"
  },
  "language_info": {
   "codemirror_mode": {
    "name": "ipython",
    "version": 3
   },
   "file_extension": ".py",
   "mimetype": "text/x-python",
   "name": "python",
   "nbconvert_exporter": "python",
   "pygments_lexer": "ipython3",
   "version": "3.6.5"
  }
 },
 "nbformat": 4,
 "nbformat_minor": 2
}
