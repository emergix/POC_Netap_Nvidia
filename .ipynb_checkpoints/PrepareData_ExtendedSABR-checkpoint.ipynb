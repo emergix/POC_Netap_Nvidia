{
 "cells": [
  {
   "cell_type": "code",
   "execution_count": 7,
   "metadata": {},
   "outputs": [],
   "source": [
    "from sys import platform\n",
    "import sys, os\n",
    "# identification de la base de prix utilisée : directory principal\n",
    "# sur ubuntu\n",
    "\n",
    "path=''\n",
    "if platform == 'linux' :\n",
    "    Initialpath ='/workspace/NeuralPricing/A_GeneralizedSABR'\n",
    "# sur. mac osx\n",
    "if platform == 'darwin' :\n",
    "    Initialpath ='/Users/olivier/keras/NeuralPricing/A_GeneralizedSABR'\n",
    "import keras,tensorflow,pkg_resources\n",
    "dataDirectory='Generate_SABR-C#/Data'\n",
    "#datafile='Data/Baby_Learningbase1.CSV'\n",
    "os.chdir(Initialpath)\n",
    "# le package identifie la methode de calibration : sous-directory\n",
    "ResultDirectory='Data'\n",
    "#datafile='Data/Baby_Learningbase1.CSV'"
   ]
  },
  {
   "cell_type": "code",
   "execution_count": 8,
   "metadata": {},
   "outputs": [],
   "source": [
    "from __future__ import print_function\n",
    "import tensorflow as tf\n",
    "from math import sqrt, exp, log, erf,floor\n",
    "import numpy \n",
    "import pandas\n",
    "from decimal import *\n",
    "import keras\n",
    "from keras.layers import Dense\n",
    "from keras.layers import Dropout\n",
    "from keras import regularizers\n",
    "from keras import callbacks\n",
    "from keras.layers import Activation\n",
    "from keras.layers import Lambda\n",
    "from keras.models import Sequential\n",
    "from keras.models import model_from_json\n",
    "import matplotlib\n",
    "import matplotlib.pyplot as pyplot\n",
    "from matplotlib import cm\n",
    "from matplotlib.ticker import LinearLocator, FormatStrFormatter\n",
    "import mpl_toolkits\n",
    "from mpl_toolkits.mplot3d import axes3d\n",
    "from mpl_toolkits.mplot3d.axes3d import Axes3D\n",
    "from sklearn import preprocessing\n",
    "from sklearn import model_selection\n",
    "import joblib\n",
    "import seaborn as sns\n",
    "import scipy\n",
    "from IPython.display import display\n",
    "import time\n",
    "%matplotlib inline\n",
    "from IPython.display import display\n",
    "from ipywidgets import interact, interactive, fixed, interact_manual,FloatProgress\n",
    "import ipywidgets as widgets\n"
   ]
  },
  {
   "cell_type": "code",
   "execution_count": 9,
   "metadata": {},
   "outputs": [],
   "source": [
    "getcontext().prec = 8\n",
    "\n",
    "from util_functions_ExtendedSABR import *"
   ]
  },
  {
   "cell_type": "code",
   "execution_count": 10,
   "metadata": {},
   "outputs": [],
   "source": [
    "params=metaparameters()\n",
    "\n",
    "params.INPUT_DIM  = 12\n",
    "params.INPUT_OPTION = 12\n",
    "params.INPUT_VOL =13\n",
    "params.NB_NEURON_PRINCIPAL =8\n",
    "params.ACTIVATION_PRINCIPALE = 'tanh'\n",
    "params.ACTIVATION_PRINCIPALE_FINALE = 'linear'\n",
    "params.INITIAL_LEARNING_NB_EPOCH=5\n",
    "params.LEARNINGBASE_ORIGIN=\"Learningbase1_4XNeuron_15000-11Layers\"\n",
    "params.LEARNINGBASE_BUT=\"Learningbase1_4XNeuron_15000-11Layers-Next\"\n",
    "params.ADDITIONAL_LEARNING_NB_EPOCH = 5\n",
    "params.BATCH_SIZE_PRINCIPAL = 32768\n",
    "params.OPTIMIZER='adamax'\n",
    "params.NBLAYERS = 11\n",
    "params.PATH = Initialpath\n",
    "params.VERBOSE_FLAG=2"
   ]
  },
  {
   "cell_type": "code",
   "execution_count": 11,
   "metadata": {},
   "outputs": [],
   "source": [
    "def convertVector(y):\n",
    "    return np.array([pandas.to_numeric(x.replace(\",\",\".\")) for x in y])\n",
    "\n",
    "def convertTensor(Z):\n",
    "    return np.array([convertVector(z) for z in Z])"
   ]
  },
  {
   "cell_type": "code",
   "execution_count": 12,
   "metadata": {},
   "outputs": [],
   "source": [
    "def Xa(i):\n",
    "    return np.asarray(list(filter(lambda x:(x[12]>0 and x[11]>0),\\\n",
    "        convertTensor((pandas.read_csv(dataDirectory+\\\n",
    "            \"/ResultatGeneratedprices-extendedSABR-100-0,05-10-0-0-100000-\"+\\\n",
    "                                str(i)+\".CSV\", sep=\";\",decimal=\",\",header=None).values)[1:,1:]))))\n"
   ]
  },
  {
   "cell_type": "code",
   "execution_count": null,
   "metadata": {},
   "outputs": [],
   "source": [
    "startTime = time.time()\n",
    "Xtotal =np.concatenate([Xa(j) for j in range(0,98)])\n",
    "endTime = time.time()\n",
    "print('temps de fabrication du ficher',endTime - startTime)\n"
   ]
  },
  {
   "cell_type": "code",
   "execution_count": null,
   "metadata": {},
   "outputs": [],
   "source": [
    "Xtotal.shape"
   ]
  },
  {
   "cell_type": "code",
   "execution_count": 160,
   "metadata": {},
   "outputs": [],
   "source": [
    "np.savetxt(\"LearningBaseFile.CSV\",Xtotal,delimiter=\",\")"
   ]
  },
  {
   "cell_type": "code",
   "execution_count": null,
   "metadata": {},
   "outputs": [],
   "source": [
    "def Xb(i):\n",
    "    ax=pandas.read_csv(dataDirectory+\\\n",
    "            \"/task\"+str(i)+\".csv\", sep=\";\",decimal=\",\")\n",
    "    ax['beta2']=0\n",
    "    ax['d']=0\n",
    "    ax['gamma']=1\n",
    "    ax['omega']=0\n",
    "    ax['lambda']=0\n",
    "    ax['F0']=ax['forward']\n",
    "    ax['option']=ax['prix']\n",
    "    ax['alpha0']=ax['alpha']\n",
    "    az=  ax[['alpha0','beta','beta2','d','gamma','nu','omega','lambda','rho',\\\n",
    "                'maturity','strike','option','vol']].values\n",
    "    return np.asarray([pandas.to_numeric(az[j]) for j in range(0,az.shape[0])])"
   ]
  },
  {
   "cell_type": "code",
   "execution_count": 27,
   "metadata": {},
   "outputs": [
    {
     "data": {
      "text/plain": [
       "array([[2.73444306e-01, 6.13545392e-01, 0.00000000e+00, ...,\n",
       "        5.99204169e-01, 4.31451379e-01, 4.72275851e-01],\n",
       "       [2.73444306e-01, 6.13545392e-01, 0.00000000e+00, ...,\n",
       "        7.42248310e-01, 3.06699139e-01, 3.89962180e-01],\n",
       "       [2.73444306e-01, 6.13545392e-01, 0.00000000e+00, ...,\n",
       "        8.01692254e-01, 2.57800321e-01, 3.59961662e-01],\n",
       "       ...,\n",
       "       [2.19426540e-01, 5.19291856e-01, 0.00000000e+00, ...,\n",
       "        1.73591419e+00, 5.09746198e-03, 1.99344963e-01],\n",
       "       [2.19426540e-01, 5.19291856e-01, 0.00000000e+00, ...,\n",
       "        1.89597427e+00, 2.16194178e-03, 1.96011695e-01],\n",
       "       [2.19426540e-01, 5.19291856e-01, 0.00000000e+00, ...,\n",
       "        2.23016106e+00, 3.18719046e-04, 1.89967269e-01]])"
      ]
     },
     "execution_count": 27,
     "metadata": {},
     "output_type": "execute_result"
    }
   ],
   "source": [
    "Xb(1)"
   ]
  },
  {
   "cell_type": "code",
   "execution_count": null,
   "metadata": {},
   "outputs": [],
   "source": [
    "startTime = time.time()\n",
    "Xtotalb =np.concatenate([Xb(j) for j in range(0,5)])\n",
    "endTime = time.time()\n",
    "print('temps de fabrication du ficher',endTime - startTime)"
   ]
  },
  {
   "cell_type": "code",
   "execution_count": null,
   "metadata": {},
   "outputs": [],
   "source": [
    "Xtotalb.shape"
   ]
  },
  {
   "cell_type": "code",
   "execution_count": 125,
   "metadata": {},
   "outputs": [
    {
     "data": {
      "text/plain": [
       "array([0.06723205, 0.80680499, 0.        , 0.        , 1.        ,\n",
       "       0.03215114, 0.        , 0.        , 0.8053848 , 7.79074585,\n",
       "       0.54178636, 0.45816837, 0.2       ])"
      ]
     },
     "execution_count": 125,
     "metadata": {},
     "output_type": "execute_result"
    }
   ],
   "source": [
    "Xtotalb[1]"
   ]
  },
  {
   "cell_type": "code",
   "execution_count": 108,
   "metadata": {},
   "outputs": [
    {
     "data": {
      "text/plain": [
       "array([[4.31771748e-01, 7.21790597e-01, 0.00000000e+00, ...,\n",
       "        2.60968239e-01, 7.75380002e-01, 3.95812785e-01],\n",
       "       [4.31771748e-01, 7.21790597e-01, 0.00000000e+00, ...,\n",
       "        5.24728876e-01, 5.57562402e-01, 2.90572879e-01],\n",
       "       [4.31771748e-01, 7.21790597e-01, 0.00000000e+00, ...,\n",
       "        6.34338206e-01, 4.72495861e-01, 2.61000965e-01],\n",
       "       ...,\n",
       "       [4.46375139e-01, 2.87062348e-01, 0.00000000e+00, ...,\n",
       "        2.14098991e+00, 1.05647988e-02, 2.22693410e-01],\n",
       "       [4.46375139e-01, 2.87062348e-01, 0.00000000e+00, ...,\n",
       "        2.38915327e+00, 6.19885259e-03, 2.24642712e-01],\n",
       "       [4.46375139e-01, 2.87062348e-01, 0.00000000e+00, ...,\n",
       "        2.90728943e+00, 2.62434541e-03, 2.33250724e-01]])"
      ]
     },
     "execution_count": 108,
     "metadata": {},
     "output_type": "execute_result"
    }
   ],
   "source": [
    "Xb(5)"
   ]
  },
  {
   "cell_type": "code",
   "execution_count": 30,
   "metadata": {},
   "outputs": [
    {
     "name": "stdout",
     "output_type": "stream",
     "text": [
      "temps de fabrication du ficher 277.8512077331543\n"
     ]
    }
   ],
   "source": [
    "startTime = time.time()\n",
    "Xtotala =np.concatenate([Xa(j) for j in range(0,98)])\n",
    "Xtotalb =np.concatenate([Xb(j) for j in range(0,21)])\n",
    "Xtotal = np.concatenate([Xtotala,Xtotalb])\n",
    "endTime = time.time()\n",
    "print('temps de fabrication du ficher',endTime - startTime)"
   ]
  },
  {
   "cell_type": "code",
   "execution_count": 31,
   "metadata": {},
   "outputs": [
    {
     "data": {
      "text/plain": [
       "(1984919, 13)"
      ]
     },
     "execution_count": 31,
     "metadata": {},
     "output_type": "execute_result"
    }
   ],
   "source": [
    "Xtotal.shape"
   ]
  },
  {
   "cell_type": "code",
   "execution_count": 33,
   "metadata": {},
   "outputs": [],
   "source": [
    "from sklearn import model_selection\n",
    "XTraining,XValidation = model_selection.train_test_split( Xtotal,  test_size=0.10, random_state=3)"
   ]
  },
  {
   "cell_type": "code",
   "execution_count": 34,
   "metadata": {},
   "outputs": [
    {
     "data": {
      "text/plain": [
       "(1786427, 13)"
      ]
     },
     "execution_count": 34,
     "metadata": {},
     "output_type": "execute_result"
    }
   ],
   "source": [
    "XTraining.shape"
   ]
  },
  {
   "cell_type": "code",
   "execution_count": 35,
   "metadata": {},
   "outputs": [
    {
     "data": {
      "text/plain": [
       "(198492, 13)"
      ]
     },
     "execution_count": 35,
     "metadata": {},
     "output_type": "execute_result"
    }
   ],
   "source": [
    "XValidation.shape"
   ]
  },
  {
   "cell_type": "code",
   "execution_count": 36,
   "metadata": {},
   "outputs": [],
   "source": [
    "ResultPath = Initialpath + '/' + ResultDirectory\n",
    "os.chdir(ResultPath)\n",
    "# on sauve le resultat \n",
    "np.savetxt(\"LearningBaseFileB.CSV\",XTraining,delimiter=\",\")\n",
    "np.savetxt(\"Notation.CSV\",XValidation,delimiter=\",\")"
   ]
  },
  {
   "cell_type": "code",
   "execution_count": null,
   "metadata": {},
   "outputs": [],
   "source": []
  }
 ],
 "metadata": {
  "kernelspec": {
   "display_name": "Python 3",
   "language": "python",
   "name": "python3"
  },
  "language_info": {
   "codemirror_mode": {
    "name": "ipython",
    "version": 3
   },
   "file_extension": ".py",
   "mimetype": "text/x-python",
   "name": "python",
   "nbconvert_exporter": "python",
   "pygments_lexer": "ipython3",
   "version": "3.6.5"
  }
 },
 "nbformat": 4,
 "nbformat_minor": 2
}
