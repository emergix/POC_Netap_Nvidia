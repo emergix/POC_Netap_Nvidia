{
 "cells": [
  {
   "cell_type": "code",
   "execution_count": 1,
   "metadata": {},
   "outputs": [
    {
     "name": "stderr",
     "output_type": "stream",
     "text": [
      "/Users/olivier/anaconda3/lib/python3.6/site-packages/h5py/__init__.py:36: FutureWarning: Conversion of the second argument of issubdtype from `float` to `np.floating` is deprecated. In future, it will be treated as `np.float64 == np.dtype(float).type`.\n",
      "  from ._conv import register_converters as _register_converters\n"
     ]
    }
   ],
   "source": [
    "import tensorflow as tf"
   ]
  },
  {
   "cell_type": "code",
   "execution_count": 9,
   "metadata": {},
   "outputs": [
    {
     "name": "stdout",
     "output_type": "stream",
     "text": [
      "Tensor(\"random_uniform_2:0\", shape=(1, 2, 3), dtype=float32)\n"
     ]
    }
   ],
   "source": [
    "shape = [1,2,3]\n",
    "a=tf.random_uniform(\n",
    "    shape,\n",
    "    minval=0,\n",
    "    maxval=None,\n",
    "    dtype=\"float32\",\n",
    "    seed=None,\n",
    "    name=None\n",
    ")\n",
    "print(a)"
   ]
  },
  {
   "cell_type": "code",
   "execution_count": 11,
   "metadata": {},
   "outputs": [
    {
     "name": "stdout",
     "output_type": "stream",
     "text": [
      "<tf.Variable 'Variable:0' shape=(1, 2, 3) dtype=float32_ref>\n"
     ]
    }
   ],
   "source": [
    "shape = [1,2,3]\n",
    "b=tf.Variable(tf.random_uniform(\n",
    "    shape,\n",
    "    minval=0,\n",
    "    maxval=None,\n",
    "    dtype=\"float32\",\n",
    "    seed=None,\n",
    "    name=None\n",
    "))\n",
    "print(b)"
   ]
  },
  {
   "cell_type": "code",
   "execution_count": 12,
   "metadata": {},
   "outputs": [],
   "source": [
    "int_var =tf.global_variables_initializer()"
   ]
  },
  {
   "cell_type": "code",
   "execution_count": 13,
   "metadata": {},
   "outputs": [],
   "source": [
    "sess = tf.Session()"
   ]
  },
  {
   "cell_type": "code",
   "execution_count": 15,
   "metadata": {},
   "outputs": [],
   "source": [
    "sess.run(int_var)"
   ]
  },
  {
   "cell_type": "code",
   "execution_count": 17,
   "metadata": {},
   "outputs": [
    {
     "name": "stdout",
     "output_type": "stream",
     "text": [
      "[[[0.76171947 0.8256774  0.40113986]\n",
      "  [0.28151512 0.671172   0.7559228 ]]]\n"
     ]
    }
   ],
   "source": [
    "print(sess.run(a))"
   ]
  },
  {
   "cell_type": "code",
   "execution_count": 18,
   "metadata": {},
   "outputs": [
    {
     "name": "stdout",
     "output_type": "stream",
     "text": [
      "np.random.uniform: 6.583514213562012 seconds\n",
      "np.random.random:  5.53221869468689 seconds\n",
      "tf.random_uniform: 1.0863819122314453 seconds\n"
     ]
    }
   ],
   "source": [
    "import time\n",
    "import numpy as np\n",
    "import tensorflow as tf\n",
    "\n",
    "t = time.time()\n",
    "for i in range(400):\n",
    "    a = np.random.uniform(0,1,(1000,2000))\n",
    "print(\"np.random.uniform: {} seconds\".format(time.time() - t))\n",
    "\n",
    "t = time.time()\n",
    "for i in range(400):\n",
    "    a = np.random.random((1000,2000))\n",
    "print(\"np.random.random:  {} seconds\".format(time.time() - t))\n",
    "\n",
    "t = time.time()\n",
    "for i in range(400):\n",
    "    a = tf.random_uniform((1000,2000),dtype=tf.float64);\n",
    "print(\"tf.random_uniform: {} seconds\".format(time.time() - t))"
   ]
  },
  {
   "cell_type": "code",
   "execution_count": 2,
   "metadata": {},
   "outputs": [
    {
     "ename": "SyntaxError",
     "evalue": "invalid syntax (<ipython-input-2-247e580abd67>, line 3)",
     "output_type": "error",
     "traceback": [
      "\u001b[0;36m  File \u001b[0;32m\"<ipython-input-2-247e580abd67>\"\u001b[0;36m, line \u001b[0;32m3\u001b[0m\n\u001b[0;31m    TrajecLog = tf.Variable(nbdate, 2)\u001b[0m\n\u001b[0m              ^\u001b[0m\n\u001b[0;31mSyntaxError\u001b[0m\u001b[0;31m:\u001b[0m invalid syntax\n"
     ]
    }
   ],
   "source": [
    "def GenerateTrajectoireVolSto1dim( random,F0,alpha0,beta,gamma,nu,lamda,omega,rho,Tmax,nbdate,milsteinflag,expmartingaleflag):\n",
    "        {\n",
    "            TrajecLog = tf.Variable(nbdate, 2)\n",
    "            for (int idate = 0; idate < nbdate; idate++)\n",
    "            {\n",
    "                TrajecLog[idate, 0] = 0.0;\n",
    "            }\n",
    "            double deltaT = Tmax / (nbdate - 1.0);\n",
    "            TrajecLog[0, 0] = Math.Log(F0);\n",
    "            if (expmartingaleflag > 0)\n",
    "            {\n",
    "                TrajecLog[0, 1] = Math.Log(alpha0);\n",
    "            }\n",
    "            else\n",
    "            {\n",
    "                TrajecLog[0, 1] = alpha0;\n",
    "            }\n",
    "            //  Random random = new MersenneTwister(42); // seed 42\n",
    "            double fbeta1;\n",
    "            for (int idate = 1; idate < nbdate; idate++)\n",
    "            {\n",
    "                double f = TrajecLog[idate - 1, 0];\n",
    "                double sigma = TrajecLog[idate - 1, 1];\n",
    "                double Frandnoise = Normal.Sample(random, 0.0, 1.0);\n",
    "                double Vrandnoise = Frandnoise * rho + Normal.Sample(random, 0.0, 1.0) * Math.Sqrt(1.0 - rho * rho);\n",
    "                if (expmartingaleflag > 0)\n",
    "                {\n",
    "                    fbeta1 = Math.Exp(f * (beta - 1) + sigma);\n",
    "                }\n",
    "                else\n",
    "                {\n",
    "                    fbeta1 = Math.Exp(f * (beta - 1)) * sigma;\n",
    "                }\n",
    "                //Euler shema\n",
    "                double df = fbeta1 * (Frandnoise * Math.Sqrt(deltaT) - fbeta1 * deltaT / 2.0);\n",
    "                // Milstein correction\n",
    "                if (milsteinflag > 0)\n",
    "                {\n",
    "                    df += (beta - 1.0) * fbeta1 * fbeta1 * Math.Exp(sigma) * (Frandnoise * Frandnoise - 1) * deltaT / 2;\n",
    "                }\n",
    "                TrajecLog[idate, 0] = TrajecLog[idate - 1, 0] + df;\n",
    "                if (expmartingaleflag > 0)\n",
    "                {\n",
    "                    double sigmagamma1 = Math.Exp(sigma * (gamma - 1)) * nu;\n",
    "                    double dsigma = sigmagamma1 * (Vrandnoise * Math.Sqrt(deltaT) - sigmagamma1 * deltaT / 2.0) + (omega * Math.Exp(-sigma) - 1.0) * lamda * deltaT;\n",
    "                    // Milstein correction\n",
    "                    if (milsteinflag > 0)\n",
    "                    {\n",
    "                        dsigma += (gamma - 1.0) * sigmagamma1 * sigmagamma1 * nu * (Vrandnoise * Vrandnoise - 1) * deltaT / 2;\n",
    "                    }\n",
    "                    TrajecLog[idate, 1] = TrajecLog[idate - 1, 1] + dsigma;\n",
    "                }\n",
    "                else\n",
    "                {\n",
    "                    double dAlpha = sigma * nu * Math.Sqrt(deltaT) * Vrandnoise;\n",
    "                    TrajecLog[idate, 1] = TrajecLog[idate - 1, 1] + dAlpha;\n",
    "                }\n",
    "\n",
    "\n",
    "            }\n",
    "            return TrajecLog; // une trajectoire en Log  pour S et V\n",
    "        }"
   ]
  },
  {
   "cell_type": "code",
   "execution_count": 1,
   "metadata": {},
   "outputs": [
    {
     "name": "stderr",
     "output_type": "stream",
     "text": [
      "/Users/olivier/anaconda3/lib/python3.6/site-packages/h5py/__init__.py:36: FutureWarning: Conversion of the second argument of issubdtype from `float` to `np.floating` is deprecated. In future, it will be treated as `np.float64 == np.dtype(float).type`.\n",
      "  from ._conv import register_converters as _register_converters\n"
     ]
    }
   ],
   "source": [
    "import tensorflow as tf\n",
    "import math\n",
    "import numpy as np\n",
    "import sys\n",
    "from datetime import datetime\n",
    "import os\n",
    "os.environ['TF_CPP_MIN_LOG_LEVEL'] = '3' \n",
    "\n",
    "nT = 365\n",
    "T = 1.0\n",
    "dt = T/nT\n",
    "sqrtDt = math.sqrt(dt)\n",
    "K = 1\n",
    "sigma = 0.2\n",
    "\n",
    "\n",
    "class BlackScholesNp:\n",
    "    def price(self, n):\n",
    "        R = sigma*sqrtDt*np.random.randn(nT, n) - 0.5*sigma*sigma*dt\n",
    "        C = np.cumsum(R, axis=0)\n",
    "        S = np.exp(C)\n",
    "        A = np.mean(S, axis=0)\n",
    "        P = np.mean(np.maximum(A - K, 0))\n",
    "        #S2 = S*S\n",
    "        #A2 = np.mean(S2, axis=0)\n",
    "        #P2 = np.mean(np.maximum(A2 - K, 0))\n",
    "        return P\n",
    "\n",
    "\n",
    "class BlackScholesTf:\n",
    "\n",
    "    def __init__(self, tf_device_name):\n",
    "        with tf.device(tf_device_name):\n",
    "            self.n = tf.placeholder(tf.int32)\n",
    "            Rt = sigma*sqrtDt*tf.random_normal((nT, self.n)) - 0.5*sigma*sigma*dt\n",
    "            Ct = tf.cumsum(Rt, axis=0)\n",
    "            St = tf.exp(Ct)\n",
    "            At = tf.reduce_mean(St, axis=0)\n",
    "            self.Pt = tf.reduce_mean(tf.maximum(At - K, 0))\n",
    "            #S2t = St*St\n",
    "            #A2t = tf.reduce_mean(S2t, axis=0)\n",
    "            #self.P2t = tf.reduce_mean(tf.maximum(A2t - K, 0))\n",
    "\n",
    "    def price(self, n):\n",
    "        p = sess.run(self.Pt, feed_dict={self.n: n})\n",
    "        #p = sess.run([self.Pt,self.P2t], feed_dict={self.n: n})\n",
    "        return p\n"
   ]
  },
  {
   "cell_type": "code",
   "execution_count": null,
   "metadata": {},
   "outputs": [],
   "source": [
    "device_name = \"cpu\"\n",
    "print(\"Black Scholes \" + device_name)\n",
    "\n",
    "with tf.Session() as sess:\n",
    "    for n in [10000, 25000, 50000, 100000, 250000]:\n",
    "        if device_name == \"np\":\n",
    "            engine = BlackScholesNp()\n",
    "        elif device_name==\"cpu\":\n",
    "            engine = BlackScholesTf(\"cpu\")\n",
    "        else:\n",
    "            engine = BlackScholesTf(\"/gpu:0\")\n",
    "\n",
    "        t0 = datetime.now()\n",
    "        p = engine.price(n)\n",
    "        t1 = datetime.now()\n",
    "print(\"num sims: {}, price: {}, time: {}\".format(n, p, t1-t0))"
   ]
  },
  {
   "cell_type": "code",
   "execution_count": 2,
   "metadata": {},
   "outputs": [],
   "source": [
    "engine = BlackScholesTf(\"cpu\")"
   ]
  },
  {
   "cell_type": "code",
   "execution_count": 26,
   "metadata": {},
   "outputs": [
    {
     "name": "stdout",
     "output_type": "stream",
     "text": [
      "num sims: 10000, price: 0.04560318679281988, time: 0:00:00.540970\n",
      "num sims: 25000, price: 0.046341687608056, time: 0:00:00.359282\n",
      "num sims: 50000, price: 0.04633217468778562, time: 0:00:00.623916\n",
      "num sims: 100000, price: 0.04609169499891421, time: 0:00:01.300300\n",
      "num sims: 250000, price: 0.04621308222052758, time: 0:00:03.092503\n"
     ]
    }
   ],
   "source": [
    "with tf.Session() as sess:\n",
    "    for n in [10000, 25000, 50000, 100000, 250000]:\n",
    "        engine = BlackScholesNp()\n",
    "        t0 = datetime.now()\n",
    "        p = engine.price(n)\n",
    "        t1 = datetime.now()\n",
    "        print(\"num sims: {}, price: {}, time: {}\".format(n, p, t1-t0))"
   ]
  },
  {
   "cell_type": "code",
   "execution_count": 3,
   "metadata": {},
   "outputs": [
    {
     "name": "stdout",
     "output_type": "stream",
     "text": [
      "num sims: 10000, price: 0.04635949805378914, time: 0:00:00.102385\n",
      "num sims: 25000, price: 0.04593432694673538, time: 0:00:00.192670\n",
      "num sims: 50000, price: 0.045779746025800705, time: 0:00:00.355098\n",
      "num sims: 100000, price: 0.04604450240731239, time: 0:00:00.621918\n",
      "num sims: 250000, price: 0.046022579073905945, time: 0:00:01.759416\n"
     ]
    }
   ],
   "source": [
    "with tf.Session() as sess:\n",
    "    for n in [10000, 25000, 50000, 100000, 250000]:\n",
    "        engine = BlackScholesTf(\"cpu\")\n",
    "        t0 = datetime.now()\n",
    "        p = engine.price(n)\n",
    "        t1 = datetime.now()\n",
    "        print(\"num sims: {}, price: {}, time: {}\".format(n, p, t1-t0))"
   ]
  },
  {
   "cell_type": "code",
   "execution_count": 13,
   "metadata": {},
   "outputs": [
    {
     "name": "stderr",
     "output_type": "stream",
     "text": [
      "/Users/olivier/anaconda3/lib/python3.6/site-packages/h5py/__init__.py:36: FutureWarning: Conversion of the second argument of issubdtype from `float` to `np.floating` is deprecated. In future, it will be treated as `np.float64 == np.dtype(float).type`.\n",
      "  from ._conv import register_converters as _register_converters\n"
     ]
    }
   ],
   "source": [
    "import tensorflow as tf\n",
    "import math\n",
    "import numpy as np\n",
    "import sys\n",
    "from datetime import datetime\n",
    "\n",
    "import os\n",
    "os.environ['TF_CPP_MIN_LOG_LEVEL'] = '3' \n",
    "\n",
    "\n",
    "\n",
    "class HestonNp:\n",
    "    def price(self, n):\n",
    "        W1 = np.random.randn(nT, n).astype(np.float32)\n",
    "        W2 = rhobar*np.random.randn(nT, n).astype(np.float32) + rho*W1\n",
    "\n",
    "        V = np.full((nT, n), V0)\n",
    "        for i in range(1, nT):\n",
    "            V[i,:] = np.fabs(V[i-1,:] + kappa * (theta - V[i-1,:])*dt + alpha * np.sqrt(V[i-1,:]) * sqrtDt * W2[i-1,:])\n",
    "     \n",
    "        R = np.sqrt(V)*sqrtDt*W1 - 0.5*V*dt\n",
    "        C = np.cumsum(R, axis=0)\n",
    "        S = np.exp(C)\n",
    "        A = np.mean(S, axis=0)\n",
    "        P = np.mean(np.maximum(A - K, 0))\n",
    "        return P"
   ]
  },
  {
   "cell_type": "code",
   "execution_count": 32,
   "metadata": {},
   "outputs": [],
   "source": [
    "nT=365\n",
    "T=1.0\n",
    "dt=T/nT\n",
    "sqrtDt=math.sqrt(dt)\n",
    "K=1\n",
    "sigma=0.2\n",
    "rho=-0.5\n",
    "rhobar=math.sqrt(1-rho*rho)\n",
    "V0=0.04\n",
    "theta=0.04\n",
    "kappa=1\n",
    "alpha=0.5\n",
    "\n",
    "class HestonTf:\n",
    "\n",
    "    \n",
    "    def __init__(self, tf_device_name,param):\n",
    "        with tf.device(tf_device_name):\n",
    "            self.param =tf.placeholder(tf.int32)\n",
    "            self.n = tf.placeholder(tf.int32)\n",
    "            W1t = tf.random_normal((nT, self.n), dtype=tf.float32)\n",
    "            W2t = rhobar*tf.random_normal((nT, self.n), dtype=tf.float32) + rho*W1t\n",
    "\n",
    "            V0t = tf.fill([1, self.n], V0)\n",
    "            \n",
    "            def updateV(prevV, currW):\n",
    "                return tf.abs(prevV + kappa * (theta - prevV) * dt + alpha * tf.sqrt(prevV) * sqrtDt * currW +param)\n",
    "\n",
    "            Vt = tf.scan(updateV, tf.concat([V0t, W2t[:-1,:]], 0))\n",
    "\n",
    "            Rt = tf.multiply(tf.sqrt(Vt), sqrtDt*W1t) - 0.5*Vt*dt\n",
    "            Ct = tf.cumsum(Rt, axis=0)\n",
    "            St = tf.exp(Ct)\n",
    "            At = tf.reduce_mean(St, axis=0)\n",
    "            self.Pt = tf.reduce_mean(tf.maximum(At - K, 0))\n",
    "\n",
    "    def price(self, n):\n",
    "        p = sess.run(self.Pt, feed_dict={self.n: n, self.param: 1})\n",
    "        return p"
   ]
  },
  {
   "cell_type": "code",
   "execution_count": 33,
   "metadata": {
    "scrolled": true
   },
   "outputs": [
    {
     "name": "stdout",
     "output_type": "stream",
     "text": [
      "num sims: 10000, price: 0.1207166239619255, time: 0:00:00.171218\n",
      "num sims: 25000, price: 0.19198065996170044, time: 0:00:00.293502\n",
      "num sims: 50000, price: 0.15270976722240448, time: 0:00:00.573542\n",
      "num sims: 100000, price: 0.43637922406196594, time: 0:00:01.236090\n",
      "num sims: 250000, price: 0.19677330553531647, time: 0:00:02.655457\n"
     ]
    }
   ],
   "source": [
    "engine = HestonTf(\"/cpu:0\",1)\n",
    "with tf.Session() as sess:\n",
    "        for n in [10000, 25000, 50000, 100000, 250000]:\n",
    "            t0 = datetime.now()\n",
    "            p = engine.price(n)\n",
    "            t1 = datetime.now()\n",
    "            print(\"num sims: {}, price: {}, time: {}\".format(n, p, t1-t0))"
   ]
  },
  {
   "cell_type": "code",
   "execution_count": 7,
   "metadata": {},
   "outputs": [
    {
     "name": "stdout",
     "output_type": "stream",
     "text": [
      "num sims: 10000, price: 0.043207017024328276, time: 0:00:00.462630\n",
      "num sims: 25000, price: 0.042422979943522586, time: 0:00:00.701634\n",
      "num sims: 50000, price: 0.04306631681930402, time: 0:00:01.467276\n",
      "num sims: 100000, price: 0.042765126944858005, time: 0:00:02.779334\n",
      "num sims: 250000, price: 0.042823414822055095, time: 0:00:06.934888\n"
     ]
    }
   ],
   "source": [
    "engine = HestonNp()\n",
    "with tf.Session() as sess:\n",
    "        for n in [10000, 25000, 50000, 100000, 250000]:\n",
    "            t0 = datetime.now()\n",
    "            p = engine.price(n)\n",
    "            t1 = datetime.now()\n",
    "            print(\"num sims: {}, price: {}, time: {}\".format(n, p, t1-t0))"
   ]
  },
  {
   "cell_type": "code",
   "execution_count": 50,
   "metadata": {},
   "outputs": [],
   "source": [
    "import math\n",
    "class GenerateCallVolSto:\n",
    "\n",
    "    def __init__(self, tf_device_name,F0,alpha1,beta,gamma,nu1,lamda1,omega1,rho,maturity,nbdate,milsteinflag,expmartingaleflag,strikes1):\n",
    "        with tf.device(tf_device_name):\n",
    "            self.n = tf.placeholder(tf.int32)\n",
    "            strikes = strikes1/F0\n",
    "            alpha0 = alpha1/math.pow(F0,1-beta)\n",
    "            nu=nu1 /math.pow(F0,(1-beta)*(1-gamma))\n",
    "            lamda=lamda1/math.pow(F0,beta-1)\n",
    "            omega = omega1/math.pow(F0,1-beta)\n",
    "            nbstrikes = len(strikes)\n",
    "            rhobar=math.sqrt(1-rho*rho)\n",
    "            nbdate = 1000\n",
    "            dt = maturity / nbdate\n",
    "            sqrtDt=math.sqrt(dt)\n",
    "            \n",
    "            W1t = tf.random_normal((nbdate, self.n), dtype=tf.float32)\n",
    "            W2t = rhobar*tf.random_normal((nbdate, self.n), dtype=tf.float32) + rho*W1t\n",
    "            V0t = tf.fill([1, self.n], alpha0)\n",
    "            \n",
    "            def updateV(prevV, currW):\n",
    "                return tf.abs(prevV + lamda * (omega - prevV) * dt + nu * tf.sqrt(prevV) * sqrtDt * currW)\n",
    "            Vt = tf.scan(updateV, tf.concat([V0t, W2t[:-1,:]], 0))       \n",
    "            Rt = tf.multiply(tf.sqrt(Vt), sqrtDt*W1t) - 0.5*Vt*dt\n",
    "            Ct = tf.cumsum(Rt, axis=0)\n",
    "            St = tf.exp(Ct)\n",
    "            At = tf.reduce_mean(St, axis=0)\n",
    "            self.At = At\n",
    "            At1 = tf.tensordot(At,tf.constant(1.0,shape = [nbstrikes]),axes=0)\n",
    "            Kt = tf.fill([self.n],1.0)             \n",
    "            exstrikes = tf.tensordot(Kt, strikes,axes=0)            \n",
    "            self.Pt = tf.reduce_mean(tf.maximum(At1 - exstrikes, 0),0)*F0           \n",
    "            \n",
    "    def priceAt(self, n):     \n",
    "        p = sess.run(self.At, feed_dict={self.n: n})\n",
    "        return p\n",
    "    \n",
    "\n",
    "    def price(self, n):     \n",
    "        p = sess.run(self.Pt, feed_dict={self.n: n})\n",
    "        return p"
   ]
  },
  {
   "cell_type": "code",
   "execution_count": 51,
   "metadata": {},
   "outputs": [
    {
     "name": "stdout",
     "output_type": "stream",
     "text": [
      "(4,)\n",
      "num sims: 100000, time: 0:00:03.284673\n",
      "[0.21696718 0.17012157 0.1321904  0.10203809]\n"
     ]
    }
   ],
   "source": [
    "strikes=np.float32(np.array([0.9,1.0,1.10,1.2]));nbstrikes=len(strikes)\n",
    "F0=1;alpha0=0.2;beta=0.5;gamma=1.0;nu=0.2;lamda=0.01;omega=0.2;rho=-0.5\n",
    "maturity =3;nbdate=10;milsteinflag=0;expmartingaleflag=1\n",
    "engine = GenerateCallVolSto(\"/cpu:0\",F0,alpha0,beta,gamma,nu,lamda,omega,rho,maturity,nbdate,milsteinflag,expmartingaleflag,strikes)\n",
    "with tf.Session() as sess: \n",
    "    for n in [100000]:\n",
    "            t0 = datetime.now()\n",
    "            p = engine.price(n)\n",
    "            print(p.shape)\n",
    "            t1 = datetime.now()\n",
    "            print(\"num sims: {}, time: {}\".format(n, t1-t0))\n",
    "            print(p)"
   ]
  },
  {
   "cell_type": "code",
   "execution_count": 52,
   "metadata": {},
   "outputs": [],
   "source": [
    "import numpy as np\n",
    "import scipy.stats as si\n",
    "\n",
    "def newton_vol_call(S, K, T, C, r, sigma):\n",
    "    \n",
    "    #S: spot price\n",
    "    #K: strike price\n",
    "    #T: time to maturity\n",
    "    #C: Call value\n",
    "    #r: interest rate\n",
    "    #sigma: volatility of underlying asset\n",
    "    \n",
    "    d1 = (np.log(S / K) + (r - 0.5 * sigma ** 2) * T) / (sigma * np.sqrt(T))\n",
    "    d2 = (np.log(S / K) + (r - 0.5 * sigma ** 2) * T) / (sigma * np.sqrt(T))\n",
    "    \n",
    "    fx = S * si.norm.cdf(d1, 0.0, 1.0) - K * np.exp(-r * T) * si.norm.cdf(d2, 0.0, 1.0) - C\n",
    "    \n",
    "    vega = (1 / np.sqrt(2 * np.pi)) * S * np.sqrt(T) * np.exp(-(si.norm.cdf(d1, 0.0, 1.0) ** 2) * 0.5)\n",
    "    \n",
    "    tolerance = 0.000001\n",
    "    x0 = sigma\n",
    "    xnew  = x0\n",
    "    xold = x0 - 1\n",
    "        \n",
    "    while abs(xnew - xold) > tolerance:\n",
    "    \n",
    "        xold = xnew\n",
    "        xnew = (xnew - fx - C) / vega\n",
    "        \n",
    "        return abs(xnew)"
   ]
  },
  {
   "cell_type": "code",
   "execution_count": 53,
   "metadata": {},
   "outputs": [
    {
     "data": {
      "text/plain": [
       "0.671115789259015"
      ]
     },
     "execution_count": 53,
     "metadata": {},
     "output_type": "execute_result"
    }
   ],
   "source": [
    "newton_vol_call(25, 20, 1, 7, 0.05, 0.25)"
   ]
  },
  {
   "cell_type": "code",
   "execution_count": 83,
   "metadata": {},
   "outputs": [],
   "source": [
    "def ImpVol(target_value,S, K, T):\n",
    "    MAX_ITERATIONS = 100\n",
    "    PRECISION = 1.0e-5\n",
    "\n",
    "    sigma = 0.5\n",
    "    for i in range(0, MAX_ITERATIONS):\n",
    "        price = bs(S, K, T, sigma)\n",
    "        vega = bsVega( S, K, T, sigma)\n",
    "\n",
    "        price = price\n",
    "        diff = target_value - price  # our root\n",
    "\n",
    "        print(i, sigma, diff)\n",
    "\n",
    "        if (abs(diff) < PRECISION):\n",
    "            return sigma\n",
    "        sigma = sigma + diff/vega # f(x) / f'(x)\n",
    "\n",
    "    # value wasn't found, return best guess so far\n",
    "    return sigma"
   ]
  },
  {
   "cell_type": "code",
   "execution_count": 67,
   "metadata": {},
   "outputs": [],
   "source": [
    "def implied_vol(target_value, call_put, S, K, T, r):\n",
    "    MAX_ITERATIONS = 100\n",
    "    PRECISION = 1.0e-5\n",
    "\n",
    "    sigma = 0.5\n",
    "    for i in range(0, MAX_ITERATIONS):\n",
    "        price = bs_price(call_put, S, K, T, r, sigma)\n",
    "        vega = bs_vega(call_put, S, K, T, r, sigma)\n",
    "\n",
    "        price = price\n",
    "        diff = target_value - price  # our root\n",
    "\n",
    "        print(i, sigma, diff)\n",
    "\n",
    "        if (abs(diff) < PRECISION):\n",
    "            return sigma\n",
    "        sigma = sigma + diff/vega # f(x) / f'(x)\n",
    "\n",
    "    # value wasn't found, return best guess so far\n",
    "    return sigma"
   ]
  },
  {
   "cell_type": "code",
   "execution_count": 82,
   "metadata": {},
   "outputs": [],
   "source": [
    "import numpy as np\n",
    "import scipy.stats as si\n",
    "import datetime\n",
    "import math\n",
    "n = si.norm.pdf\n",
    "N = si.norm.cdf\n",
    "\n",
    "def bs_price(cp_flag,S,K,T,r,v,q=0.0):\n",
    "    d1 = (math.log(S/K)+(r+v*v/2.)*T)/(v*math.sqrt(T))\n",
    "    d2 = d1-v*math.sqrt(T)\n",
    "    if cp_flag == 'c':\n",
    "        price = S*math.exp(-q*T)*N(d1)-K*math.exp(-r*T)*N(d2)\n",
    "    else:\n",
    "        price = K*math.exp(-r*T)*N(-d2)-S*math.exp(-q*T)*N(-d1)\n",
    "    return price\n",
    "\n",
    "def bs(S,K,T,v):\n",
    "    d1 = (math.log(S/K)+(v*v/2.)*T)/(v*math.sqrt(T))\n",
    "    d2 = d1-v*math.sqrt(T)  \n",
    "    price = S*N(d1)-K*N(d2) \n",
    "    return price\n",
    "\n",
    "def bs_vega(cp_flag,S,K,T,r,v,q=0.0):\n",
    "    d1 = (math.log(S/K)+(r+v*v/2.)*T)/(v*math.sqrt(T))\n",
    "    return S * math.sqrt(T)*n(d1)\n",
    "\n",
    "def bsVega(S,K,T,v):\n",
    "    d1 = (math.log(S/K)+(r+v*v/2.)*T)/(v*math.sqrt(T))\n",
    "    return S * math.sqrt(T)*n(d1)"
   ]
  },
  {
   "cell_type": "code",
   "execution_count": 85,
   "metadata": {},
   "outputs": [
    {
     "name": "stdout",
     "output_type": "stream",
     "text": [
      "0 0.5 -21.663494065292014\n",
      "1 0.21887584096393464 0.03246776720703792\n",
      "2 0.21929611857240752 -5.865309731234447e-07\n",
      "Implied vol: 21.93%\n",
      "Market price = 17.50\n",
      "Model price = 17.50\n"
     ]
    }
   ],
   "source": [
    "V_market = 17.5\n",
    "K = 585\n",
    "T = (datetime.date(2014,10,18) - datetime.date(2014,9,8)).days / 365.\n",
    "S = 586.08\n",
    "\n",
    "\n",
    "implied_vol = ImpVol(V_market, S, K, T)\n",
    "\n",
    "print('Implied vol: %.2f%%' % (implied_vol * 100))\n",
    "\n",
    "print( 'Market price = %.2f' % V_market)\n",
    "print('Model price = %.2f' % bs_price(cp, S, K, T, 0, implied_vol))\n",
    "\n"
   ]
  },
  {
   "cell_type": "code",
   "execution_count": 38,
   "metadata": {},
   "outputs": [
    {
     "name": "stdout",
     "output_type": "stream",
     "text": [
      "num sims: 10000, time: 0:00:00.407884\n",
      "0.1564411\n",
      "num sims: 25000, time: 0:00:01.012519\n",
      "0.15824853\n",
      "num sims: 50000, time: 0:00:01.809285\n",
      "0.1547428\n",
      "num sims: 100000, time: 0:00:03.162613\n",
      "0.15579414\n",
      "num sims: 250000, time: 0:00:07.860657\n",
      "0.15549363\n",
      "num sims: 500000, time: 0:00:15.145852\n",
      "0.15586354\n",
      "num sims: 1000000, time: 0:00:31.969193\n",
      "0.15709403\n"
     ]
    }
   ],
   "source": [
    "strikes=np.float32(np.array([0.9,1.0,1.10,1.2]));nbstrikes=len(strikes)\n",
    "F0=1;alpha0=0.2;beta=0.5;gamma=1.0;nu=0.2;lamda=0.01;omega=0.2;rho=-0.5\n",
    "maturity =3;nbdate=10;milsteinflag=0;expmartingaleflag=1\n",
    "engine = GenerateCallVolSto(\"/cpu:0\",F0,alpha0,beta,gamma,nu,lamda,omega,rho,maturity,nbdate,milsteinflag,expmartingaleflag,strikes)\n",
    "with tf.Session() as sess: \n",
    "    for n in [10000, 25000, 50000, 100000, 250000, 500000, 1000000]:\n",
    "            t0 = datetime.now()\n",
    "            p = engine.price(n)\n",
    "            t1 = datetime.now()\n",
    "            print(\"num sims: {}, time: {}\".format(n, t1-t0))\n",
    "            print(p)"
   ]
  },
  {
   "cell_type": "code",
   "execution_count": 4,
   "metadata": {},
   "outputs": [],
   "source": [
    "import numpy as np\n",
    "a=np.asarray([1,2,3,4])"
   ]
  },
  {
   "cell_type": "code",
   "execution_count": 12,
   "metadata": {},
   "outputs": [
    {
     "name": "stdout",
     "output_type": "stream",
     "text": [
      "1-2-3-4\n"
     ]
    }
   ],
   "source": [
    "print(*a,sep=\"-\")"
   ]
  },
  {
   "cell_type": "code",
   "execution_count": null,
   "metadata": {},
   "outputs": [],
   "source": []
  }
 ],
 "metadata": {
  "kernelspec": {
   "display_name": "Python 3",
   "language": "python",
   "name": "python3"
  },
  "language_info": {
   "codemirror_mode": {
    "name": "ipython",
    "version": 3
   },
   "file_extension": ".py",
   "mimetype": "text/x-python",
   "name": "python",
   "nbconvert_exporter": "python",
   "pygments_lexer": "ipython3",
   "version": "3.6.5"
  }
 },
 "nbformat": 4,
 "nbformat_minor": 2
}
